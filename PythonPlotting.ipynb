{
  "nbformat": 4,
  "nbformat_minor": 0,
  "metadata": {
    "colab": {
      "provenance": [],
      "authorship_tag": "ABX9TyPuAVeCW8JCHkDrGIHWl7eA",
      "include_colab_link": true
    },
    "kernelspec": {
      "name": "python3",
      "display_name": "Python 3"
    },
    "language_info": {
      "name": "python"
    }
  },
  "cells": [
    {
      "cell_type": "markdown",
      "metadata": {
        "id": "view-in-github",
        "colab_type": "text"
      },
      "source": [
        "<a href=\"https://colab.research.google.com/github/Ethanisnumber1/Intro-to-AI-/blob/main/PythonPlotting.ipynb\" target=\"_parent\"><img src=\"https://colab.research.google.com/assets/colab-badge.svg\" alt=\"Open In Colab\"/></a>"
      ]
    },
    {
      "cell_type": "code",
      "source": [
        "# Importing plotting library\n",
        "import matplotlib.pyplot as plt\n",
        "# if it didn't do the above, you would have to write the\n",
        "# following anytime you want to plot\n",
        "# matplotlib.pyplot.plt.plot(x,y)\n",
        "# instead the follow works\n",
        "# plt.plot(x,y)"
      ],
      "metadata": {
        "id": "IVM9ahTgoUAu"
      },
      "execution_count": 36,
      "outputs": []
    },
    {
      "cell_type": "code",
      "execution_count": 25,
      "metadata": {
        "colab": {
          "base_uri": "https://localhost:8080/"
        },
        "id": "E_G0IUG6dw2B",
        "outputId": "9add6bf3-6807-4178-e6fa-d8c6fbaca05a"
      },
      "outputs": [
        {
          "output_type": "stream",
          "name": "stdout",
          "text": [
            "Hello world\n",
            "I have arrived\n",
            "4\n",
            "Apple\n"
          ]
        }
      ],
      "source": [
        "print(\"Hello world\"), print(\"I have arrived\")\n",
        "x=4\n",
        "print(x)\n",
        "print(\"Apple\")\n"
      ]
    },
    {
      "cell_type": "code",
      "source": [
        "# Room is at temperature 72 degrees\n",
        "# Temperature is an interger, a data type\n",
        "temperature = 72"
      ],
      "metadata": {
        "id": "r67zBxYxg6sw"
      },
      "execution_count": 32,
      "outputs": []
    },
    {
      "cell_type": "code",
      "source": [
        "# Make Fake data\n",
        "# The \"#\" symbol means a comment\n",
        "# [] is used for lists - so x and y are lists\n",
        "# Note that y is x squared\n",
        "x = [1,2,3,4]\n",
        "y = [1,4,9,16]\n",
        "\n",
        "# Plot x and y\n",
        "plt.plot(x,y,'purple')\n"
      ],
      "metadata": {
        "colab": {
          "base_uri": "https://localhost:8080/",
          "height": 447
        },
        "id": "tm8nmhRTncLw",
        "outputId": "e9530944-9ada-4054-b52e-21c89373e259"
      },
      "execution_count": 47,
      "outputs": [
        {
          "output_type": "execute_result",
          "data": {
            "text/plain": [
              "[<matplotlib.lines.Line2D at 0x7f781ccaf6a0>]"
            ]
          },
          "metadata": {},
          "execution_count": 47
        },
        {
          "output_type": "display_data",
          "data": {
            "text/plain": [
              "<Figure size 640x480 with 1 Axes>"
            ],
            "image/png": "[encoded data removed]"
          },
          "metadata": {}
        }
      ]
    },
    {
      "cell_type": "code",
      "source": [
        "# Use numpy\n",
        "import numpy as np\n",
        "\n",
        "# Make vector (1-D array)\n",
        "# Technically numpy is converting lists into vectors here\n",
        "x = np.array([1,2,3,4])\n",
        "y = np.array([1,4,9,16])\n",
        "\n",
        "print(y)\n",
        "# Define y differently\n",
        "# x**2 means x squared\n",
        "y = x**2\n",
        "\n",
        "#show\n",
        "print(y)"
      ],
      "metadata": {
        "colab": {
          "base_uri": "https://localhost:8080/"
        },
        "id": "GijkcY3-rx_w",
        "outputId": "95f09dff-ad52-4710-adf2-fa916b54d6a1"
      },
      "execution_count": 49,
      "outputs": [
        {
          "output_type": "stream",
          "name": "stdout",
          "text": [
            "[ 1  4  9 16]\n",
            "[ 1  4  9 16]\n"
          ]
        }
      ]
    }
  ]
}